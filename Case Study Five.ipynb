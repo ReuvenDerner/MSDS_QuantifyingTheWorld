{
 "cells": [
  {
   "cell_type": "markdown",
   "metadata": {},
   "source": [
    "__Title:__ Case Study 5: SVM & SGD  \n",
    "__Authors:__ Will Butler, Robert (Reuven) Derner \n",
    "__Date:__ 10/31/23 "
   ]
  },
  {
   "cell_type": "markdown",
   "metadata": {},
   "source": [
    "## Business Understanding\n",
    "\n",
    "Firewall traffic\n",
    "\n",
    "A cybersecur \n",
    "\n",
    "Data Source:\n",
    "\n",
    "Provided by client with metadata dictionary regarding terms "
   ]
  },
  {
   "cell_type": "code",
   "execution_count": null,
   "metadata": {},
   "outputs": [],
   "source": []
  },
  {
   "cell_type": "code",
   "execution_count": null,
   "metadata": {},
   "outputs": [],
   "source": []
  },
  {
   "cell_type": "markdown",
   "metadata": {},
   "source": [
    "Use SVM and SGD to attempt to model and predict the class of an internet connection request.\n"
   ]
  },
  {
   "cell_type": "code",
   "execution_count": null,
   "metadata": {},
   "outputs": [],
   "source": [
    "# Import libraries\n",
    "import pandas as pd\n"
   ]
  },
  {
   "cell_type": "code",
   "execution_count": null,
   "metadata": {},
   "outputs": [],
   "source": [
    "# Import data from github (next phase)\n",
    "url = 'https://raw.githubusercontent.com/ReuvenDerner/MSDS_QuantifyingTheWorld/main/log2.csv'\n",
    "data = pd.read_csv(url, encoding = \"utf-8\")"
   ]
  },
  {
   "cell_type": "markdown",
   "metadata": {},
   "source": [
    "## Data Quality\n",
    "Verify data quality: Explain any missing values, duplicate data, and outliers. Are those mistakes? How do you deal with these problems? Give justifications for your methods."
   ]
  },
  {
   "cell_type": "code",
   "execution_count": null,
   "metadata": {},
   "outputs": [],
   "source": [
    "data.shape"
   ]
  },
  {
   "cell_type": "markdown",
   "metadata": {},
   "source": [
    "### Examine the data"
   ]
  },
  {
   "cell_type": "code",
   "execution_count": null,
   "metadata": {},
   "outputs": [],
   "source": [
    "data.head()"
   ]
  },
  {
   "cell_type": "code",
   "execution_count": null,
   "metadata": {},
   "outputs": [],
   "source": [
    "data.describe()"
   ]
  },
  {
   "cell_type": "markdown",
   "metadata": {},
   "source": [
    "__Missing Values__  \n",
    "The dataset contains no missing values upon code examination."
   ]
  },
  {
   "cell_type": "code",
   "execution_count": null,
   "metadata": {},
   "outputs": [],
   "source": [
    "data.isnull().sum()"
   ]
  },
  {
   "cell_type": "code",
   "execution_count": null,
   "metadata": {},
   "outputs": [],
   "source": [
    "# Features with Null Values and Percent missing\n",
    "null_df = pd.DataFrame(data[data.columns[data.isnull().any()]].isnull().sum()).reset_index()\n",
    "null_df.columns = ['Feature', 'Value']\n",
    "null_df['Percent'] = round((null_df['Value'] / data.shape[0] * 100),2)\n",
    "\n",
    "null_df"
   ]
  },
  {
   "cell_type": "markdown",
   "metadata": {},
   "source": [
    "__Duplicate Values__  \n",
    "There are 0 duplicate values in the data set. No action was needed."
   ]
  },
  {
   "cell_type": "markdown",
   "metadata": {},
   "source": [
    "## EDA Exploratory Data Analysis"
   ]
  },
  {
   "cell_type": "code",
   "execution_count": null,
   "metadata": {},
   "outputs": [],
   "source": [
    "import matplotlib.pyplot as plt\n",
    "import seaborn as sns\n",
    "\n",
    "# Example: Visualize the distribution of the target variable\n",
    "sns.countplot(x='Action', data=data)\n",
    "plt.title('Distribution of Target Class')\n",
    "plt.show()\n"
   ]
  },
  {
   "cell_type": "markdown",
   "metadata": {},
   "source": [
    "### Examine any Correlations "
   ]
  },
  {
   "cell_type": "code",
   "execution_count": null,
   "metadata": {},
   "outputs": [],
   "source": [
    "correlation_matrix = data.corr()\n",
    "plt.figure(figsize=(10, 8))\n",
    "sns.heatmap(correlation_matrix, annot=True, cmap='coolwarm')\n",
    "plt.title('Correlation Matrix')\n",
    "plt.show()\n"
   ]
  },
  {
   "cell_type": "code",
   "execution_count": null,
   "metadata": {},
   "outputs": [],
   "source": [
    "#Split the data into features and Target Variable\n",
    "X = data.drop('Action', axis=1)\n",
    "y = data['Action']\n"
   ]
  },
  {
   "cell_type": "code",
   "execution_count": null,
   "metadata": {},
   "outputs": [],
   "source": [
    "from sklearn.model_selection import train_test_split\n",
    "\n",
    "X_train, X_test, y_train, y_test = train_test_split(X, y, test_size=0.2, random_state=219)\n"
   ]
  },
  {
   "cell_type": "code",
   "execution_count": null,
   "metadata": {},
   "outputs": [],
   "source": [
    "from sklearn.preprocessing import StandardScaler\n",
    "\n",
    "scaler = StandardScaler()\n",
    "X_train = scaler.fit_transform(X_train)\n",
    "X_test = scaler.transform(X_test)\n"
   ]
  },
  {
   "cell_type": "code",
   "execution_count": null,
   "metadata": {},
   "outputs": [],
   "source": [
    "from sklearn.svm import SVC\n",
    "\n",
    "svm_classifier = SVC(kernel='linear', C=1.0, decision_function_shape='ovr')\n",
    "svm_classifier.fit(X_train, y_train)\n",
    "\n"
   ]
  },
  {
   "cell_type": "code",
   "execution_count": null,
   "metadata": {},
   "outputs": [],
   "source": [
    "from sklearn.linear_model import SGDClassifier\n",
    "\n",
    "sgd_classifier = SGDClassifier(loss='log', max_iter=1000, tol=1e-3)\n",
    "sgd_classifier.fit(X_train, y_train)\n"
   ]
  },
  {
   "cell_type": "code",
   "execution_count": null,
   "metadata": {},
   "outputs": [],
   "source": [
    "from sklearn.metrics import accuracy_score, classification_report\n",
    "\n",
    "svm_predictions = svm_classifier.predict(X_test)\n",
    "svm_accuracy = accuracy_score(y_test, svm_predictions)\n",
    "\n",
    "print(\"SVM Accuracy:\", svm_accuracy)\n",
    "print(\"SVM Classification Report:\")\n",
    "print(classification_report(y_test, svm_predictions))\n"
   ]
  },
  {
   "cell_type": "code",
   "execution_count": null,
   "metadata": {},
   "outputs": [],
   "source": [
    "sgd_predictions = sgd_classifier.predict(X_test)\n",
    "sgd_accuracy = accuracy_score(y_test, sgd_predictions)\n",
    "\n",
    "print(\"SGD Classifier Accuracy:\", sgd_accuracy)\n",
    "print(\"SGD Classifier Classification Report:\")\n",
    "print(classification_report(y_test, sgd_predictions))\n"
   ]
  },
  {
   "cell_type": "code",
   "execution_count": null,
   "metadata": {},
   "outputs": [],
   "source": [
    "from collections import Counter\n",
    "\n",
    "# Count the predicted classes using SVM\n",
    "svm_class_counts = Counter(svm_predictions)\n",
    "print(\"SVM Predicted Class Counts:\", svm_class_counts)\n",
    "\n",
    "# Count the predicted classes using SGD Classifier\n",
    "sgd_class_counts = Counter(sgd_predictions)\n",
    "print(\"SGD Predicted Class Counts:\", sgd_class_counts)\n"
   ]
  },
  {
   "cell_type": "code",
   "execution_count": null,
   "metadata": {},
   "outputs": [],
   "source": [
    "# Create and plot a confusion matrix\n",
    "svm_cm = confusion_matrix(y_test, svm_predictions)\n",
    "sgd_cm = confusion_matrix(y_test, sgd_predictions)\n",
    "\n",
    "plt.figure(figsize=(12, 6))\n",
    "\n",
    "plt.subplot(1, 2, 1)\n",
    "sns.heatmap(svm_cm, annot=True, fmt='d', cmap='Blues', xticklabels=label_encoder.classes_, yticklabels=label_encoder.classes_)\n",
    "plt.xlabel('Predicted')\n",
    "plt.ylabel('True')\n",
    "plt.title('SVM Confusion Matrix')\n",
    "\n",
    "plt.subplot(1, 2, 2)\n",
    "sns.heatmap(sgd_cm, annot=True, fmt='d', cmap='Blues', xticklabels=label_encoder.classes_, yticklabels=label_encoder.classes_)\n",
    "plt.xlabel('Predicted')\n",
    "plt.ylabel('True')\n",
    "plt.title('SGD Confusion Matrix')\n",
    "\n",
    "plt.tight_layout()\n",
    "plt.show()"
   ]
  },
  {
   "cell_type": "code",
   "execution_count": null,
   "metadata": {},
   "outputs": [],
   "source": []
  },
  {
   "cell_type": "markdown",
   "metadata": {},
   "source": [
    "### Variant 2"
   ]
  },
  {
   "cell_type": "code",
   "execution_count": null,
   "metadata": {},
   "outputs": [],
   "source": [
    "import pandas as pd\n",
    "import numpy as np\n",
    "from sklearn.model_selection import train_test_split\n",
    "from sklearn.preprocessing import LabelEncoder\n",
    "from sklearn.svm import SVC\n",
    "from sklearn.linear_model import SGDClassifier\n",
    "from sklearn.metrics import accuracy_score, classification_report, confusion_matrix\n",
    "import seaborn as sns\n",
    "import matplotlib.pyplot as plt\n",
    "\n",
    "# Load the dataset from the provided GitHub link\n",
    "url = \"https://raw.githubusercontent.com/ReuvenDerner/MSDS_QuantifyingTheWorld/main/log2.csv\"\n",
    "data = pd.read_csv(url)\n",
    "\n",
    "# Split the data into features (X) and the target variable (y)\n",
    "X = data.drop(\"Action\", axis=1)\n",
    "y = data[\"Action\"]\n",
    "\n",
    "# Convert the categorical target variable to numerical using Label Encoding\n",
    "label_encoder = LabelEncoder()\n",
    "y = label_encoder.fit_transform(y)\n",
    "\n",
    "# Split the data into training and testing sets\n",
    "X_train, X_test, y_train, y_test = train_test_split(X, y, test_size=0.2, random_state=42)\n"
   ]
  },
  {
   "cell_type": "code",
   "execution_count": null,
   "metadata": {},
   "outputs": [],
   "source": [
    "# Support Vector Machine (SVM) model for multiclass classification\r\n",
    "svm_model = SVC(kernel='linear')\r\n",
    "svm_model.fit(X_train, y_train)\r\n",
    "\r\n"
   ]
  },
  {
   "cell_type": "code",
   "execution_count": null,
   "metadata": {},
   "outputs": [],
   "source": [
    "# Stochastic Gradient Descent (SGD) model for multiclass classification\n",
    "sgd_model = SGDClassifier(loss='hinge', max_iter=1000, random_state=42)\n",
    "sgd_model.fit(X_train, y_train)\n",
    "\n"
   ]
  },
  {
   "cell_type": "code",
   "execution_count": null,
   "metadata": {},
   "outputs": [],
   "source": [
    "# Predictions\n",
    "svm_predictions = svm_model.predict(X_test)\n",
    "sgd_predictions = sgd_model.predict(X_test)\n",
    "\n",
    "# Calculate accuracy\n",
    "svm_accuracy = accuracy_score(y_test, svm_predictions)\n",
    "sgd_accuracy = accuracy_score(y_test, sgd_predictions)\n",
    "\n"
   ]
  },
  {
   "cell_type": "code",
   "execution_count": null,
   "metadata": {},
   "outputs": [],
   "source": [
    "# Print accuracy and classification report\n",
    "print(\"Support Vector Machine (SVM) Model:\")\n",
    "print(f\"Accuracy: {svm_accuracy:.2f}\")\n",
    "print(\"\\nClassification Report:\")\n",
    "print(classification_report(y_test, svm_predictions, target_names=label_encoder.classes_))\n",
    "\n",
    "print(\"Stochastic Gradient Descent (SGD) Model:\")\n",
    "print(f\"Accuracy: {sgd_accuracy:.2f}\")\n",
    "print(\"\\nClassification Report:\")\n",
    "print(classification_report(y_test, sgd_predictions, target_names=label_encoder.classes_))\n"
   ]
  },
  {
   "cell_type": "code",
   "execution_count": null,
   "metadata": {},
   "outputs": [],
   "source": [
    "\n",
    "# Create and plot a confusion matrix\n",
    "svm_cm = confusion_matrix(y_test, svm_predictions)\n",
    "sgd_cm = confusion_matrix(y_test, sgd_predictions)\n",
    "\n",
    "plt.figure(figsize=(12, 6))\n",
    "\n",
    "plt.subplot(1, 2, 1)\n",
    "sns.heatmap(svm_cm, annot=True, fmt='d', cmap='Blues', xticklabels=label_encoder.classes_, yticklabels=label_encoder.classes_)\n",
    "plt.xlabel('Predicted')\n",
    "plt.ylabel('True')\n",
    "plt.title('SVM Confusion Matrix')\n",
    "\n",
    "plt.subplot(1, 2, 2)\n",
    "sns.heatmap(sgd_cm, annot=True, fmt='d', cmap='Blues', xticklabels=label_encoder.classes_, yticklabels=label_encoder.classes_)\n",
    "plt.xlabel('Predicted')\n",
    "plt.ylabel('True')\n",
    "plt.title('SGD Confusion Matrix')\n",
    "\n",
    "plt.tight_layout()\n",
    "plt.show()\n"
   ]
  },
  {
   "cell_type": "code",
   "execution_count": null,
   "metadata": {},
   "outputs": [],
   "source": []
  },
  {
   "cell_type": "code",
   "execution_count": null,
   "metadata": {},
   "outputs": [],
   "source": []
  },
  {
   "cell_type": "code",
   "execution_count": null,
   "metadata": {},
   "outputs": [],
   "source": []
  },
  {
   "cell_type": "code",
   "execution_count": null,
   "metadata": {},
   "outputs": [],
   "source": [
    "\r\n",
    "from sklearn.model_selection import RandomizedSearchCV\r\n",
    "\r\n",
    "X_train, X_val, y_train, y_val = train_test_split(X_train, y_train, test_size=0.2, random_state=10)\r\n",
    "\r\n",
    "# Define your SVM and SGD parameter distributions for RandomizedSearchCV\r\n",
    "#svm_param_dist = {\r\n",
    "#    'C': [0.1, 1, 10],\r\n",
    "#    'kernel': ['linear', 'rbf', 'poly'],\r\n",
    "#}\r\n",
    "\r\n",
    "sgd_param_dist = {\r\n",
    "    'alpha': [0.0001, 0.001, 0.01],\r\n",
    "    'max_iter': [1000, 2000, 3000],\r\n",
    "    'loss' : ['hinge','log_loss','huber'],\r\n",
    "}\r\n",
    "\r\n",
    "# Define a function to calculate accuracy on the validation set for early stopping\r\n",
    "def evaluate_model(clf, X_val, y_val):\r\n",
    "    y_pred = clf.predict(X_val)\r\n",
    "    return accuracy_score(y_val, y_pred)\r\n",
    "\r\n",
    "# Perform RandomizedSearchCV for the SVM model\r\n",
    "#svm_search = RandomizedSearchCV(SVC(), param_distributions=svm_param_dist, n_iter=9, cv=3, random_state=10)\r\n",
    "#svm_search.fit(X_train, y_train)\r\n",
    "\r\n",
    "# Early stopping based on the validation accuracy\r\n",
    "#best_svm_model = svm_search.best_estimator_\r\n",
    "#best_svm_val_accuracy = evaluate_model(best_svm_model, X_val, y_val)\r\n",
    "#print(\"Best SVM Model:\", best_svm_model)\r\n",
    "#print(\"Validation Accuracy:\", best_svm_val_accuracy)\r\n",
    "\r\n",
    "# Perform RandomizedSearchCV for the SGD model\r\n",
    "sgd_search = RandomizedSearchCV(SGDClassifier( random_state=10), param_distributions=sgd_param_dist, n_iter=50, cv=3, random_state=10)\r\n",
    "sgd_search.fit(X_train, y_train)\r\n",
    "\r\n",
    "# Early stopping based on the validation accuracy\r\n",
    "best_sgd_model = sgd_search.best_estimator_\r\n",
    "best_sgd_val_accuracy = evaluate_model(best_sgd_model, X_val, y_val)\r\n",
    "print(\"Best SGD Model:\", best_sgd_model)\r\n",
    "print(\"Validation Accuracy:\", best_sgd_val_accuracy)\r\n",
    "\r\n"
   ]
  },
  {
   "cell_type": "code",
   "execution_count": null,
   "metadata": {},
   "outputs": [],
   "source": [
    "\r\n",
    "\r\n"
   ]
  },
  {
   "cell_type": "code",
   "execution_count": null,
   "metadata": {},
   "outputs": [],
   "source": [
    "\r\n"
   ]
  },
  {
   "cell_type": "code",
   "execution_count": null,
   "metadata": {},
   "outputs": [],
   "source": []
  }
 ],
 "metadata": {
  "kernelspec": {
   "display_name": "Python 3.8.5 64-bit ('rwbut': virtualenv)",
   "name": "python385jvsc74a57bd08e49214a560cda078e502002c7b80516a9700d7f09758e242b71eebe169fbdbe"
  },
  "language_info": {
   "codemirror_mode": {
    "name": "ipython",
    "version": 3
   },
   "file_extension": ".py",
   "mimetype": "text/x-python",
   "name": "python",
   "nbconvert_exporter": "python",
   "pygments_lexer": "ipython3",
   "version": "3.8.5"
  },
  "orig_nbformat": 3
 },
 "nbformat": 4,
 "nbformat_minor": 5
}